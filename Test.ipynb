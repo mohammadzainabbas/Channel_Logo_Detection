{
  "nbformat": 4,
  "nbformat_minor": 0,
  "metadata": {
    "colab": {
      "name": "Test",
      "version": "0.3.2",
      "provenance": [],
      "include_colab_link": true
    },
    "kernelspec": {
      "name": "python3",
      "display_name": "Python 3"
    }
  },
  "cells": [
    {
      "cell_type": "markdown",
      "metadata": {
        "id": "view-in-github",
        "colab_type": "text"
      },
      "source": [
        "<a href=\"https://colab.research.google.com/github/mohammadzainabbas/Channel_Logo_Detection/blob/master/Test.ipynb\" target=\"_parent\"><img src=\"https://colab.research.google.com/assets/colab-badge.svg\" alt=\"Open In Colab\"/></a>"
      ]
    },
    {
      "metadata": {
        "id": "Fxf6Z7B62diu",
        "colab_type": "code",
        "colab": {}
      },
      "cell_type": "code",
      "source": [
        "import numpy as np, cv2 as cv\n",
        "\n",
        "np.set_printoptions(precision=2, suppress=True, linewidth=150)"
      ],
      "execution_count": 0,
      "outputs": []
    },
    {
      "metadata": {
        "id": "m3Oja_tA2lzz",
        "colab_type": "code",
        "outputId": "7c25c273-425f-4fd1-c1a0-018b2a993c54",
        "colab": {
          "base_uri": "https://localhost:8080/",
          "height": 136
        }
      },
      "cell_type": "code",
      "source": [
        "row, col = 100, 200\n",
        "a = np.random.rand(row, col)\n",
        "print(a)"
      ],
      "execution_count": 0,
      "outputs": [
        {
          "output_type": "stream",
          "text": [
            "[[0.81 0.51 0.46 ... 0.52 0.54 0.02]\n",
            " [0.71 0.79 0.24 ... 0.42 0.12 0.35]\n",
            " [0.74 0.19 0.56 ... 0.16 0.42 0.6 ]\n",
            " ...\n",
            " [0.69 0.19 0.75 ... 0.73 0.1  0.89]\n",
            " [0.58 0.75 0.6  ... 0.48 0.62 0.54]\n",
            " [0.45 0.9  0.59 ... 0.72 0.99 0.36]]\n"
          ],
          "name": "stdout"
        }
      ]
    },
    {
      "metadata": {
        "id": "-BsxYUvS4UHl",
        "colab_type": "code",
        "outputId": "e86d8196-6137-49e0-e3b9-6580e812e7c9",
        "colab": {
          "base_uri": "https://localhost:8080/",
          "height": 34
        }
      },
      "cell_type": "code",
      "source": [
        "np.shape(a)[1]*.4"
      ],
      "execution_count": 0,
      "outputs": [
        {
          "output_type": "execute_result",
          "data": {
            "text/plain": [
              "80.0"
            ]
          },
          "metadata": {
            "tags": []
          },
          "execution_count": 31
        }
      ]
    },
    {
      "metadata": {
        "id": "lVcu22Sw6YEv",
        "colab_type": "code",
        "colab": {}
      },
      "cell_type": "code",
      "source": [
        "row_th, col_th = .4, .3\n",
        "a1 = a[:int(np.shape(a)[0]*row_th), :int(np.shape(a)[1]*col_th)]\n",
        "a2 = a[-int(np.shape(a)[0]*row_th):, :int(np.shape(a)[1]*col_th)]\n",
        "a3 = a[:int(np.shape(a)[0]*row_th), -int(np.shape(a)[1]*col_th):]\n",
        "a4 = a[-int(np.shape(a)[0]*row_th):, -int(np.shape(a)[1]*col_th):]\n"
      ],
      "execution_count": 0,
      "outputs": []
    },
    {
      "metadata": {
        "id": "kCq1-F8b3FI_",
        "colab_type": "code",
        "outputId": "26bd1372-752b-4329-8835-0c8e9737b680",
        "colab": {
          "base_uri": "https://localhost:8080/",
          "height": 136
        }
      },
      "cell_type": "code",
      "source": [
        "print(a1)"
      ],
      "execution_count": 0,
      "outputs": [
        {
          "output_type": "stream",
          "text": [
            "[[0.81 0.51 0.46 ... 0.36 0.85 0.89]\n",
            " [0.71 0.79 0.24 ... 0.49 0.77 0.19]\n",
            " [0.74 0.19 0.56 ... 0.23 0.27 0.92]\n",
            " ...\n",
            " [0.21 0.26 0.69 ... 0.92 0.96 0.32]\n",
            " [0.55 0.37 0.77 ... 0.92 0.56 0.86]\n",
            " [0.93 0.88 0.21 ... 0.16 0.23 0.5 ]]\n"
          ],
          "name": "stdout"
        }
      ]
    },
    {
      "metadata": {
        "id": "5B9Y4o0v4q4W",
        "colab_type": "code",
        "outputId": "e4b7f78f-31b4-43c8-ccbc-b1b734005a38",
        "colab": {
          "base_uri": "https://localhost:8080/",
          "height": 136
        }
      },
      "cell_type": "code",
      "source": [
        "print(a2)"
      ],
      "execution_count": 0,
      "outputs": [
        {
          "output_type": "stream",
          "text": [
            "[[0.62 0.15 0.06 ... 0.97 0.2  0.64]\n",
            " [0.53 0.17 0.71 ... 0.86 0.45 0.54]\n",
            " [0.37 0.21 0.58 ... 0.86 0.11 0.83]\n",
            " ...\n",
            " [0.69 0.19 0.75 ... 0.19 0.77 0.73]\n",
            " [0.58 0.75 0.6  ... 0.51 0.48 0.91]\n",
            " [0.45 0.9  0.59 ... 0.36 0.46 0.65]]\n"
          ],
          "name": "stdout"
        }
      ]
    },
    {
      "metadata": {
        "id": "0SHV0yom5N-K",
        "colab_type": "code",
        "outputId": "d1289ed4-803f-4a5c-b7b7-2d79c37bfc93",
        "colab": {
          "base_uri": "https://localhost:8080/",
          "height": 136
        }
      },
      "cell_type": "code",
      "source": [
        "print(a3)"
      ],
      "execution_count": 0,
      "outputs": [
        {
          "output_type": "stream",
          "text": [
            "[[0.83 0.39 0.56 ... 0.52 0.54 0.02]\n",
            " [0.03 0.27 0.89 ... 0.42 0.12 0.35]\n",
            " [0.16 0.35 0.47 ... 0.16 0.42 0.6 ]\n",
            " ...\n",
            " [0.87 0.06 0.6  ... 0.88 0.52 0.84]\n",
            " [0.32 0.38 0.34 ... 0.14 0.71 0.73]\n",
            " [0.95 0.01 0.32 ... 0.85 0.65 0.02]]\n"
          ],
          "name": "stdout"
        }
      ]
    },
    {
      "metadata": {
        "id": "V3H6JoNT52NZ",
        "colab_type": "code",
        "outputId": "7bde8902-b1b3-433d-ad86-d9f759f99c95",
        "colab": {
          "base_uri": "https://localhost:8080/",
          "height": 136
        }
      },
      "cell_type": "code",
      "source": [
        "print(a4)"
      ],
      "execution_count": 0,
      "outputs": [
        {
          "output_type": "stream",
          "text": [
            "[[0.2  0.66 0.17 ... 0.86 0.61 0.46]\n",
            " [0.38 0.4  0.98 ... 0.47 0.4  0.39]\n",
            " [0.99 0.43 1.   ... 0.27 0.85 0.47]\n",
            " ...\n",
            " [0.79 0.47 0.85 ... 0.73 0.1  0.89]\n",
            " [0.11 0.74 0.5  ... 0.48 0.62 0.54]\n",
            " [0.31 0.94 0.3  ... 0.72 0.99 0.36]]\n"
          ],
          "name": "stdout"
        }
      ]
    },
    {
      "metadata": {
        "id": "uFwPxbI86POK",
        "colab_type": "code",
        "outputId": "e2232984-a426-4d0c-ca44-9ebf858833e3",
        "colab": {
          "base_uri": "https://localhost:8080/",
          "height": 34
        }
      },
      "cell_type": "code",
      "source": [
        "np.shape(a), np.shape(a1), np.shape(a2), np.shape(a3), np.shape(a4)"
      ],
      "execution_count": 0,
      "outputs": [
        {
          "output_type": "execute_result",
          "data": {
            "text/plain": [
              "((100, 200), (40, 60), (40, 60), (40, 60), (40, 60))"
            ]
          },
          "metadata": {
            "tags": []
          },
          "execution_count": 37
        }
      ]
    },
    {
      "metadata": {
        "id": "BIGI1tE0ZXFH",
        "colab_type": "code",
        "colab": {
          "base_uri": "https://localhost:8080/",
          "height": 34
        },
        "outputId": "d647b15f-fe3b-456b-f701-8b2c0ede7d96"
      },
      "cell_type": "code",
      "source": [
        "import os\n",
        "img_list = os.listdir(\"geo_image\")\n",
        "len(img_list)"
      ],
      "execution_count": 74,
      "outputs": [
        {
          "output_type": "execute_result",
          "data": {
            "text/plain": [
              "1801"
            ]
          },
          "metadata": {
            "tags": []
          },
          "execution_count": 74
        }
      ]
    },
    {
      "metadata": {
        "id": "60NkYKjZZ8lS",
        "colab_type": "code",
        "colab": {
          "base_uri": "https://localhost:8080/",
          "height": 34
        },
        "outputId": "b54bfefe-987f-48d6-ad41-96e742a0bd1e"
      },
      "cell_type": "code",
      "source": [
        "'geo_image/' + img_list[1]"
      ],
      "execution_count": 76,
      "outputs": [
        {
          "output_type": "execute_result",
          "data": {
            "text/plain": [
              "'geo_image/frame119.jpg'"
            ]
          },
          "metadata": {
            "tags": []
          },
          "execution_count": 76
        }
      ]
    },
    {
      "metadata": {
        "id": "in4q0_J06997",
        "colab_type": "code",
        "colab": {}
      },
      "cell_type": "code",
      "source": [
        "a = np.array(cv.imread('geo_image/' + img_list[1],cv.IMREAD_COLOR))"
      ],
      "execution_count": 0,
      "outputs": []
    },
    {
      "metadata": {
        "id": "VjVtvIsl92s7",
        "colab_type": "code",
        "colab": {}
      },
      "cell_type": "code",
      "source": [
        "row_th, col_th = .35, .35\n",
        "a1 = a[:int(np.shape(a)[0]*row_th), :int(np.shape(a)[1]*col_th)]\n",
        "a2 = a[-int(np.shape(a)[0]*row_th):, :int(np.shape(a)[1]*col_th)]\n",
        "a3 = a[:int(np.shape(a)[0]*row_th), -int(np.shape(a)[1]*col_th):]\n",
        "a4 = a[-int(np.shape(a)[0]*row_th):, -int(np.shape(a)[1]*col_th):]"
      ],
      "execution_count": 0,
      "outputs": []
    },
    {
      "metadata": {
        "id": "u5Mxj4q-8xCP",
        "colab_type": "code",
        "outputId": "c4f4d8b6-7cf8-4676-caa0-3cb6ebe8c4b6",
        "colab": {
          "base_uri": "https://localhost:8080/",
          "height": 34
        }
      },
      "cell_type": "code",
      "source": [
        "cv.imwrite('t/Top Left.png',a1)\n",
        "cv.imwrite('t/Top Right.png',a3)\n",
        "cv.imwrite('t/Bottom Left.png',a2)\n",
        "cv.imwrite('t/Bottom Right.png',a4)"
      ],
      "execution_count": 79,
      "outputs": [
        {
          "output_type": "execute_result",
          "data": {
            "text/plain": [
              "True"
            ]
          },
          "metadata": {
            "tags": []
          },
          "execution_count": 79
        }
      ]
    },
    {
      "metadata": {
        "id": "3-0YDHzq_bZJ",
        "colab_type": "code",
        "colab": {}
      },
      "cell_type": "code",
      "source": [
        "a[:int(np.shape(a)[0]*row_th), :int(np.shape(a)[1]*col_th)] = 0\n",
        "a[-int(np.shape(a)[0]*row_th):, :int(np.shape(a)[1]*col_th)] = 0\n",
        "a[:int(np.shape(a)[0]*row_th), -int(np.shape(a)[1]*col_th):] = 0\n",
        "a[-int(np.shape(a)[0]*row_th):, -int(np.shape(a)[1]*col_th):] = 0"
      ],
      "execution_count": 0,
      "outputs": []
    },
    {
      "metadata": {
        "id": "svvDjmn4_nfF",
        "colab_type": "code",
        "outputId": "623e349e-48d9-4d6f-f6bc-d837a1f7c53d",
        "colab": {
          "base_uri": "https://localhost:8080/",
          "height": 34
        }
      },
      "cell_type": "code",
      "source": [
        "cv.imwrite('t/New Image.png',a)"
      ],
      "execution_count": 81,
      "outputs": [
        {
          "output_type": "execute_result",
          "data": {
            "text/plain": [
              "True"
            ]
          },
          "metadata": {
            "tags": []
          },
          "execution_count": 81
        }
      ]
    },
    {
      "metadata": {
        "id": "AcGAyIri51lY",
        "colab_type": "code",
        "colab": {
          "base_uri": "https://localhost:8080/",
          "height": 9809
        },
        "outputId": "d03074a2-0935-486e-c5c6-9cbb285c22f6"
      },
      "cell_type": "code",
      "source": [
        "import os\n",
        "\n",
        "# set video file path of input video with name and extension\n",
        "vid = cv.VideoCapture('test.mp4')\n",
        "\n",
        "\n",
        "if not os.path.exists('image'):\n",
        "    os.makedirs('image')\n",
        "\n",
        "#for frame identity\n",
        "index = 0\n",
        "while(True):\n",
        "    # Extract images\n",
        "    ret, frame = vid.read()\n",
        "    # end of frames\n",
        "    if not ret: \n",
        "        break\n",
        "    # Saves images\n",
        "    name = './image/frame' + str(index) + '.jpg'\n",
        "    print ('Creating...' + name)\n",
        "    cv.imwrite(name, frame)\n",
        "\n",
        "    # next frame\n",
        "    index += 1"
      ],
      "execution_count": 47,
      "outputs": [
        {
          "output_type": "stream",
          "text": [
            "Creating..../image/frame0.jpg\n",
            "Creating..../image/frame1.jpg\n",
            "Creating..../image/frame2.jpg\n",
            "Creating..../image/frame3.jpg\n",
            "Creating..../image/frame4.jpg\n",
            "Creating..../image/frame5.jpg\n",
            "Creating..../image/frame6.jpg\n",
            "Creating..../image/frame7.jpg\n",
            "Creating..../image/frame8.jpg\n",
            "Creating..../image/frame9.jpg\n",
            "Creating..../image/frame10.jpg\n",
            "Creating..../image/frame11.jpg\n",
            "Creating..../image/frame12.jpg\n",
            "Creating..../image/frame13.jpg\n",
            "Creating..../image/frame14.jpg\n",
            "Creating..../image/frame15.jpg\n",
            "Creating..../image/frame16.jpg\n",
            "Creating..../image/frame17.jpg\n",
            "Creating..../image/frame18.jpg\n",
            "Creating..../image/frame19.jpg\n",
            "Creating..../image/frame20.jpg\n",
            "Creating..../image/frame21.jpg\n",
            "Creating..../image/frame22.jpg\n",
            "Creating..../image/frame23.jpg\n",
            "Creating..../image/frame24.jpg\n",
            "Creating..../image/frame25.jpg\n",
            "Creating..../image/frame26.jpg\n",
            "Creating..../image/frame27.jpg\n",
            "Creating..../image/frame28.jpg\n",
            "Creating..../image/frame29.jpg\n",
            "Creating..../image/frame30.jpg\n",
            "Creating..../image/frame31.jpg\n",
            "Creating..../image/frame32.jpg\n",
            "Creating..../image/frame33.jpg\n",
            "Creating..../image/frame34.jpg\n",
            "Creating..../image/frame35.jpg\n",
            "Creating..../image/frame36.jpg\n",
            "Creating..../image/frame37.jpg\n",
            "Creating..../image/frame38.jpg\n",
            "Creating..../image/frame39.jpg\n",
            "Creating..../image/frame40.jpg\n",
            "Creating..../image/frame41.jpg\n",
            "Creating..../image/frame42.jpg\n",
            "Creating..../image/frame43.jpg\n",
            "Creating..../image/frame44.jpg\n",
            "Creating..../image/frame45.jpg\n",
            "Creating..../image/frame46.jpg\n",
            "Creating..../image/frame47.jpg\n",
            "Creating..../image/frame48.jpg\n",
            "Creating..../image/frame49.jpg\n",
            "Creating..../image/frame50.jpg\n",
            "Creating..../image/frame51.jpg\n",
            "Creating..../image/frame52.jpg\n",
            "Creating..../image/frame53.jpg\n",
            "Creating..../image/frame54.jpg\n",
            "Creating..../image/frame55.jpg\n",
            "Creating..../image/frame56.jpg\n",
            "Creating..../image/frame57.jpg\n",
            "Creating..../image/frame58.jpg\n",
            "Creating..../image/frame59.jpg\n",
            "Creating..../image/frame60.jpg\n",
            "Creating..../image/frame61.jpg\n",
            "Creating..../image/frame62.jpg\n",
            "Creating..../image/frame63.jpg\n",
            "Creating..../image/frame64.jpg\n",
            "Creating..../image/frame65.jpg\n",
            "Creating..../image/frame66.jpg\n",
            "Creating..../image/frame67.jpg\n",
            "Creating..../image/frame68.jpg\n",
            "Creating..../image/frame69.jpg\n",
            "Creating..../image/frame70.jpg\n",
            "Creating..../image/frame71.jpg\n",
            "Creating..../image/frame72.jpg\n",
            "Creating..../image/frame73.jpg\n",
            "Creating..../image/frame74.jpg\n",
            "Creating..../image/frame75.jpg\n",
            "Creating..../image/frame76.jpg\n",
            "Creating..../image/frame77.jpg\n",
            "Creating..../image/frame78.jpg\n",
            "Creating..../image/frame79.jpg\n",
            "Creating..../image/frame80.jpg\n",
            "Creating..../image/frame81.jpg\n",
            "Creating..../image/frame82.jpg\n",
            "Creating..../image/frame83.jpg\n",
            "Creating..../image/frame84.jpg\n",
            "Creating..../image/frame85.jpg\n",
            "Creating..../image/frame86.jpg\n",
            "Creating..../image/frame87.jpg\n",
            "Creating..../image/frame88.jpg\n",
            "Creating..../image/frame89.jpg\n",
            "Creating..../image/frame90.jpg\n",
            "Creating..../image/frame91.jpg\n",
            "Creating..../image/frame92.jpg\n",
            "Creating..../image/frame93.jpg\n",
            "Creating..../image/frame94.jpg\n",
            "Creating..../image/frame95.jpg\n",
            "Creating..../image/frame96.jpg\n",
            "Creating..../image/frame97.jpg\n",
            "Creating..../image/frame98.jpg\n",
            "Creating..../image/frame99.jpg\n",
            "Creating..../image/frame100.jpg\n",
            "Creating..../image/frame101.jpg\n",
            "Creating..../image/frame102.jpg\n",
            "Creating..../image/frame103.jpg\n",
            "Creating..../image/frame104.jpg\n",
            "Creating..../image/frame105.jpg\n",
            "Creating..../image/frame106.jpg\n",
            "Creating..../image/frame107.jpg\n",
            "Creating..../image/frame108.jpg\n",
            "Creating..../image/frame109.jpg\n",
            "Creating..../image/frame110.jpg\n",
            "Creating..../image/frame111.jpg\n",
            "Creating..../image/frame112.jpg\n",
            "Creating..../image/frame113.jpg\n",
            "Creating..../image/frame114.jpg\n",
            "Creating..../image/frame115.jpg\n",
            "Creating..../image/frame116.jpg\n",
            "Creating..../image/frame117.jpg\n",
            "Creating..../image/frame118.jpg\n",
            "Creating..../image/frame119.jpg\n",
            "Creating..../image/frame120.jpg\n",
            "Creating..../image/frame121.jpg\n",
            "Creating..../image/frame122.jpg\n",
            "Creating..../image/frame123.jpg\n",
            "Creating..../image/frame124.jpg\n",
            "Creating..../image/frame125.jpg\n",
            "Creating..../image/frame126.jpg\n",
            "Creating..../image/frame127.jpg\n",
            "Creating..../image/frame128.jpg\n",
            "Creating..../image/frame129.jpg\n",
            "Creating..../image/frame130.jpg\n",
            "Creating..../image/frame131.jpg\n",
            "Creating..../image/frame132.jpg\n",
            "Creating..../image/frame133.jpg\n",
            "Creating..../image/frame134.jpg\n",
            "Creating..../image/frame135.jpg\n",
            "Creating..../image/frame136.jpg\n",
            "Creating..../image/frame137.jpg\n",
            "Creating..../image/frame138.jpg\n",
            "Creating..../image/frame139.jpg\n",
            "Creating..../image/frame140.jpg\n",
            "Creating..../image/frame141.jpg\n",
            "Creating..../image/frame142.jpg\n",
            "Creating..../image/frame143.jpg\n",
            "Creating..../image/frame144.jpg\n",
            "Creating..../image/frame145.jpg\n",
            "Creating..../image/frame146.jpg\n",
            "Creating..../image/frame147.jpg\n",
            "Creating..../image/frame148.jpg\n",
            "Creating..../image/frame149.jpg\n",
            "Creating..../image/frame150.jpg\n",
            "Creating..../image/frame151.jpg\n",
            "Creating..../image/frame152.jpg\n",
            "Creating..../image/frame153.jpg\n",
            "Creating..../image/frame154.jpg\n",
            "Creating..../image/frame155.jpg\n",
            "Creating..../image/frame156.jpg\n",
            "Creating..../image/frame157.jpg\n",
            "Creating..../image/frame158.jpg\n",
            "Creating..../image/frame159.jpg\n",
            "Creating..../image/frame160.jpg\n",
            "Creating..../image/frame161.jpg\n",
            "Creating..../image/frame162.jpg\n",
            "Creating..../image/frame163.jpg\n",
            "Creating..../image/frame164.jpg\n",
            "Creating..../image/frame165.jpg\n",
            "Creating..../image/frame166.jpg\n",
            "Creating..../image/frame167.jpg\n",
            "Creating..../image/frame168.jpg\n",
            "Creating..../image/frame169.jpg\n",
            "Creating..../image/frame170.jpg\n",
            "Creating..../image/frame171.jpg\n",
            "Creating..../image/frame172.jpg\n",
            "Creating..../image/frame173.jpg\n",
            "Creating..../image/frame174.jpg\n",
            "Creating..../image/frame175.jpg\n",
            "Creating..../image/frame176.jpg\n",
            "Creating..../image/frame177.jpg\n",
            "Creating..../image/frame178.jpg\n",
            "Creating..../image/frame179.jpg\n",
            "Creating..../image/frame180.jpg\n",
            "Creating..../image/frame181.jpg\n",
            "Creating..../image/frame182.jpg\n",
            "Creating..../image/frame183.jpg\n",
            "Creating..../image/frame184.jpg\n",
            "Creating..../image/frame185.jpg\n",
            "Creating..../image/frame186.jpg\n",
            "Creating..../image/frame187.jpg\n",
            "Creating..../image/frame188.jpg\n",
            "Creating..../image/frame189.jpg\n",
            "Creating..../image/frame190.jpg\n",
            "Creating..../image/frame191.jpg\n",
            "Creating..../image/frame192.jpg\n",
            "Creating..../image/frame193.jpg\n",
            "Creating..../image/frame194.jpg\n",
            "Creating..../image/frame195.jpg\n",
            "Creating..../image/frame196.jpg\n",
            "Creating..../image/frame197.jpg\n",
            "Creating..../image/frame198.jpg\n",
            "Creating..../image/frame199.jpg\n",
            "Creating..../image/frame200.jpg\n",
            "Creating..../image/frame201.jpg\n",
            "Creating..../image/frame202.jpg\n",
            "Creating..../image/frame203.jpg\n",
            "Creating..../image/frame204.jpg\n",
            "Creating..../image/frame205.jpg\n",
            "Creating..../image/frame206.jpg\n",
            "Creating..../image/frame207.jpg\n",
            "Creating..../image/frame208.jpg\n",
            "Creating..../image/frame209.jpg\n",
            "Creating..../image/frame210.jpg\n",
            "Creating..../image/frame211.jpg\n",
            "Creating..../image/frame212.jpg\n",
            "Creating..../image/frame213.jpg\n",
            "Creating..../image/frame214.jpg\n",
            "Creating..../image/frame215.jpg\n",
            "Creating..../image/frame216.jpg\n",
            "Creating..../image/frame217.jpg\n",
            "Creating..../image/frame218.jpg\n",
            "Creating..../image/frame219.jpg\n",
            "Creating..../image/frame220.jpg\n",
            "Creating..../image/frame221.jpg\n",
            "Creating..../image/frame222.jpg\n",
            "Creating..../image/frame223.jpg\n",
            "Creating..../image/frame224.jpg\n",
            "Creating..../image/frame225.jpg\n",
            "Creating..../image/frame226.jpg\n",
            "Creating..../image/frame227.jpg\n",
            "Creating..../image/frame228.jpg\n",
            "Creating..../image/frame229.jpg\n",
            "Creating..../image/frame230.jpg\n",
            "Creating..../image/frame231.jpg\n",
            "Creating..../image/frame232.jpg\n",
            "Creating..../image/frame233.jpg\n",
            "Creating..../image/frame234.jpg\n",
            "Creating..../image/frame235.jpg\n",
            "Creating..../image/frame236.jpg\n",
            "Creating..../image/frame237.jpg\n",
            "Creating..../image/frame238.jpg\n",
            "Creating..../image/frame239.jpg\n",
            "Creating..../image/frame240.jpg\n",
            "Creating..../image/frame241.jpg\n",
            "Creating..../image/frame242.jpg\n",
            "Creating..../image/frame243.jpg\n",
            "Creating..../image/frame244.jpg\n",
            "Creating..../image/frame245.jpg\n",
            "Creating..../image/frame246.jpg\n",
            "Creating..../image/frame247.jpg\n",
            "Creating..../image/frame248.jpg\n",
            "Creating..../image/frame249.jpg\n",
            "Creating..../image/frame250.jpg\n",
            "Creating..../image/frame251.jpg\n",
            "Creating..../image/frame252.jpg\n",
            "Creating..../image/frame253.jpg\n",
            "Creating..../image/frame254.jpg\n",
            "Creating..../image/frame255.jpg\n",
            "Creating..../image/frame256.jpg\n",
            "Creating..../image/frame257.jpg\n",
            "Creating..../image/frame258.jpg\n",
            "Creating..../image/frame259.jpg\n",
            "Creating..../image/frame260.jpg\n",
            "Creating..../image/frame261.jpg\n",
            "Creating..../image/frame262.jpg\n",
            "Creating..../image/frame263.jpg\n",
            "Creating..../image/frame264.jpg\n",
            "Creating..../image/frame265.jpg\n",
            "Creating..../image/frame266.jpg\n",
            "Creating..../image/frame267.jpg\n",
            "Creating..../image/frame268.jpg\n",
            "Creating..../image/frame269.jpg\n",
            "Creating..../image/frame270.jpg\n",
            "Creating..../image/frame271.jpg\n",
            "Creating..../image/frame272.jpg\n",
            "Creating..../image/frame273.jpg\n",
            "Creating..../image/frame274.jpg\n",
            "Creating..../image/frame275.jpg\n",
            "Creating..../image/frame276.jpg\n",
            "Creating..../image/frame277.jpg\n",
            "Creating..../image/frame278.jpg\n",
            "Creating..../image/frame279.jpg\n",
            "Creating..../image/frame280.jpg\n",
            "Creating..../image/frame281.jpg\n",
            "Creating..../image/frame282.jpg\n",
            "Creating..../image/frame283.jpg\n",
            "Creating..../image/frame284.jpg\n",
            "Creating..../image/frame285.jpg\n",
            "Creating..../image/frame286.jpg\n",
            "Creating..../image/frame287.jpg\n",
            "Creating..../image/frame288.jpg\n",
            "Creating..../image/frame289.jpg\n",
            "Creating..../image/frame290.jpg\n",
            "Creating..../image/frame291.jpg\n",
            "Creating..../image/frame292.jpg\n",
            "Creating..../image/frame293.jpg\n",
            "Creating..../image/frame294.jpg\n",
            "Creating..../image/frame295.jpg\n",
            "Creating..../image/frame296.jpg\n",
            "Creating..../image/frame297.jpg\n",
            "Creating..../image/frame298.jpg\n",
            "Creating..../image/frame299.jpg\n",
            "Creating..../image/frame300.jpg\n",
            "Creating..../image/frame301.jpg\n",
            "Creating..../image/frame302.jpg\n",
            "Creating..../image/frame303.jpg\n",
            "Creating..../image/frame304.jpg\n",
            "Creating..../image/frame305.jpg\n",
            "Creating..../image/frame306.jpg\n",
            "Creating..../image/frame307.jpg\n",
            "Creating..../image/frame308.jpg\n",
            "Creating..../image/frame309.jpg\n",
            "Creating..../image/frame310.jpg\n",
            "Creating..../image/frame311.jpg\n",
            "Creating..../image/frame312.jpg\n",
            "Creating..../image/frame313.jpg\n",
            "Creating..../image/frame314.jpg\n",
            "Creating..../image/frame315.jpg\n",
            "Creating..../image/frame316.jpg\n",
            "Creating..../image/frame317.jpg\n",
            "Creating..../image/frame318.jpg\n",
            "Creating..../image/frame319.jpg\n",
            "Creating..../image/frame320.jpg\n",
            "Creating..../image/frame321.jpg\n",
            "Creating..../image/frame322.jpg\n",
            "Creating..../image/frame323.jpg\n",
            "Creating..../image/frame324.jpg\n",
            "Creating..../image/frame325.jpg\n",
            "Creating..../image/frame326.jpg\n",
            "Creating..../image/frame327.jpg\n",
            "Creating..../image/frame328.jpg\n",
            "Creating..../image/frame329.jpg\n",
            "Creating..../image/frame330.jpg\n",
            "Creating..../image/frame331.jpg\n",
            "Creating..../image/frame332.jpg\n",
            "Creating..../image/frame333.jpg\n",
            "Creating..../image/frame334.jpg\n",
            "Creating..../image/frame335.jpg\n",
            "Creating..../image/frame336.jpg\n",
            "Creating..../image/frame337.jpg\n",
            "Creating..../image/frame338.jpg\n",
            "Creating..../image/frame339.jpg\n",
            "Creating..../image/frame340.jpg\n",
            "Creating..../image/frame341.jpg\n",
            "Creating..../image/frame342.jpg\n",
            "Creating..../image/frame343.jpg\n",
            "Creating..../image/frame344.jpg\n",
            "Creating..../image/frame345.jpg\n",
            "Creating..../image/frame346.jpg\n",
            "Creating..../image/frame347.jpg\n",
            "Creating..../image/frame348.jpg\n",
            "Creating..../image/frame349.jpg\n",
            "Creating..../image/frame350.jpg\n",
            "Creating..../image/frame351.jpg\n",
            "Creating..../image/frame352.jpg\n",
            "Creating..../image/frame353.jpg\n",
            "Creating..../image/frame354.jpg\n",
            "Creating..../image/frame355.jpg\n",
            "Creating..../image/frame356.jpg\n",
            "Creating..../image/frame357.jpg\n",
            "Creating..../image/frame358.jpg\n",
            "Creating..../image/frame359.jpg\n",
            "Creating..../image/frame360.jpg\n",
            "Creating..../image/frame361.jpg\n",
            "Creating..../image/frame362.jpg\n",
            "Creating..../image/frame363.jpg\n",
            "Creating..../image/frame364.jpg\n",
            "Creating..../image/frame365.jpg\n",
            "Creating..../image/frame366.jpg\n",
            "Creating..../image/frame367.jpg\n",
            "Creating..../image/frame368.jpg\n",
            "Creating..../image/frame369.jpg\n",
            "Creating..../image/frame370.jpg\n",
            "Creating..../image/frame371.jpg\n",
            "Creating..../image/frame372.jpg\n",
            "Creating..../image/frame373.jpg\n",
            "Creating..../image/frame374.jpg\n",
            "Creating..../image/frame375.jpg\n",
            "Creating..../image/frame376.jpg\n",
            "Creating..../image/frame377.jpg\n",
            "Creating..../image/frame378.jpg\n",
            "Creating..../image/frame379.jpg\n",
            "Creating..../image/frame380.jpg\n",
            "Creating..../image/frame381.jpg\n",
            "Creating..../image/frame382.jpg\n",
            "Creating..../image/frame383.jpg\n",
            "Creating..../image/frame384.jpg\n",
            "Creating..../image/frame385.jpg\n",
            "Creating..../image/frame386.jpg\n",
            "Creating..../image/frame387.jpg\n",
            "Creating..../image/frame388.jpg\n",
            "Creating..../image/frame389.jpg\n",
            "Creating..../image/frame390.jpg\n",
            "Creating..../image/frame391.jpg\n",
            "Creating..../image/frame392.jpg\n",
            "Creating..../image/frame393.jpg\n",
            "Creating..../image/frame394.jpg\n",
            "Creating..../image/frame395.jpg\n",
            "Creating..../image/frame396.jpg\n",
            "Creating..../image/frame397.jpg\n",
            "Creating..../image/frame398.jpg\n",
            "Creating..../image/frame399.jpg\n",
            "Creating..../image/frame400.jpg\n",
            "Creating..../image/frame401.jpg\n",
            "Creating..../image/frame402.jpg\n",
            "Creating..../image/frame403.jpg\n",
            "Creating..../image/frame404.jpg\n",
            "Creating..../image/frame405.jpg\n",
            "Creating..../image/frame406.jpg\n",
            "Creating..../image/frame407.jpg\n",
            "Creating..../image/frame408.jpg\n",
            "Creating..../image/frame409.jpg\n",
            "Creating..../image/frame410.jpg\n",
            "Creating..../image/frame411.jpg\n",
            "Creating..../image/frame412.jpg\n",
            "Creating..../image/frame413.jpg\n",
            "Creating..../image/frame414.jpg\n",
            "Creating..../image/frame415.jpg\n",
            "Creating..../image/frame416.jpg\n",
            "Creating..../image/frame417.jpg\n",
            "Creating..../image/frame418.jpg\n",
            "Creating..../image/frame419.jpg\n",
            "Creating..../image/frame420.jpg\n",
            "Creating..../image/frame421.jpg\n",
            "Creating..../image/frame422.jpg\n",
            "Creating..../image/frame423.jpg\n",
            "Creating..../image/frame424.jpg\n",
            "Creating..../image/frame425.jpg\n",
            "Creating..../image/frame426.jpg\n",
            "Creating..../image/frame427.jpg\n",
            "Creating..../image/frame428.jpg\n",
            "Creating..../image/frame429.jpg\n",
            "Creating..../image/frame430.jpg\n",
            "Creating..../image/frame431.jpg\n",
            "Creating..../image/frame432.jpg\n",
            "Creating..../image/frame433.jpg\n",
            "Creating..../image/frame434.jpg\n",
            "Creating..../image/frame435.jpg\n",
            "Creating..../image/frame436.jpg\n",
            "Creating..../image/frame437.jpg\n",
            "Creating..../image/frame438.jpg\n",
            "Creating..../image/frame439.jpg\n",
            "Creating..../image/frame440.jpg\n",
            "Creating..../image/frame441.jpg\n",
            "Creating..../image/frame442.jpg\n",
            "Creating..../image/frame443.jpg\n",
            "Creating..../image/frame444.jpg\n",
            "Creating..../image/frame445.jpg\n",
            "Creating..../image/frame446.jpg\n",
            "Creating..../image/frame447.jpg\n",
            "Creating..../image/frame448.jpg\n",
            "Creating..../image/frame449.jpg\n",
            "Creating..../image/frame450.jpg\n",
            "Creating..../image/frame451.jpg\n",
            "Creating..../image/frame452.jpg\n",
            "Creating..../image/frame453.jpg\n",
            "Creating..../image/frame454.jpg\n",
            "Creating..../image/frame455.jpg\n",
            "Creating..../image/frame456.jpg\n",
            "Creating..../image/frame457.jpg\n",
            "Creating..../image/frame458.jpg\n",
            "Creating..../image/frame459.jpg\n",
            "Creating..../image/frame460.jpg\n",
            "Creating..../image/frame461.jpg\n",
            "Creating..../image/frame462.jpg\n",
            "Creating..../image/frame463.jpg\n",
            "Creating..../image/frame464.jpg\n",
            "Creating..../image/frame465.jpg\n",
            "Creating..../image/frame466.jpg\n",
            "Creating..../image/frame467.jpg\n",
            "Creating..../image/frame468.jpg\n",
            "Creating..../image/frame469.jpg\n",
            "Creating..../image/frame470.jpg\n",
            "Creating..../image/frame471.jpg\n",
            "Creating..../image/frame472.jpg\n",
            "Creating..../image/frame473.jpg\n",
            "Creating..../image/frame474.jpg\n",
            "Creating..../image/frame475.jpg\n",
            "Creating..../image/frame476.jpg\n",
            "Creating..../image/frame477.jpg\n",
            "Creating..../image/frame478.jpg\n",
            "Creating..../image/frame479.jpg\n",
            "Creating..../image/frame480.jpg\n",
            "Creating..../image/frame481.jpg\n",
            "Creating..../image/frame482.jpg\n",
            "Creating..../image/frame483.jpg\n",
            "Creating..../image/frame484.jpg\n",
            "Creating..../image/frame485.jpg\n",
            "Creating..../image/frame486.jpg\n",
            "Creating..../image/frame487.jpg\n",
            "Creating..../image/frame488.jpg\n",
            "Creating..../image/frame489.jpg\n",
            "Creating..../image/frame490.jpg\n",
            "Creating..../image/frame491.jpg\n",
            "Creating..../image/frame492.jpg\n",
            "Creating..../image/frame493.jpg\n",
            "Creating..../image/frame494.jpg\n",
            "Creating..../image/frame495.jpg\n",
            "Creating..../image/frame496.jpg\n",
            "Creating..../image/frame497.jpg\n",
            "Creating..../image/frame498.jpg\n",
            "Creating..../image/frame499.jpg\n",
            "Creating..../image/frame500.jpg\n",
            "Creating..../image/frame501.jpg\n",
            "Creating..../image/frame502.jpg\n",
            "Creating..../image/frame503.jpg\n",
            "Creating..../image/frame504.jpg\n",
            "Creating..../image/frame505.jpg\n",
            "Creating..../image/frame506.jpg\n",
            "Creating..../image/frame507.jpg\n",
            "Creating..../image/frame508.jpg\n",
            "Creating..../image/frame509.jpg\n",
            "Creating..../image/frame510.jpg\n",
            "Creating..../image/frame511.jpg\n",
            "Creating..../image/frame512.jpg\n",
            "Creating..../image/frame513.jpg\n",
            "Creating..../image/frame514.jpg\n",
            "Creating..../image/frame515.jpg\n",
            "Creating..../image/frame516.jpg\n",
            "Creating..../image/frame517.jpg\n",
            "Creating..../image/frame518.jpg\n",
            "Creating..../image/frame519.jpg\n",
            "Creating..../image/frame520.jpg\n",
            "Creating..../image/frame521.jpg\n",
            "Creating..../image/frame522.jpg\n",
            "Creating..../image/frame523.jpg\n",
            "Creating..../image/frame524.jpg\n",
            "Creating..../image/frame525.jpg\n",
            "Creating..../image/frame526.jpg\n",
            "Creating..../image/frame527.jpg\n",
            "Creating..../image/frame528.jpg\n",
            "Creating..../image/frame529.jpg\n",
            "Creating..../image/frame530.jpg\n",
            "Creating..../image/frame531.jpg\n",
            "Creating..../image/frame532.jpg\n",
            "Creating..../image/frame533.jpg\n",
            "Creating..../image/frame534.jpg\n",
            "Creating..../image/frame535.jpg\n",
            "Creating..../image/frame536.jpg\n",
            "Creating..../image/frame537.jpg\n",
            "Creating..../image/frame538.jpg\n",
            "Creating..../image/frame539.jpg\n",
            "Creating..../image/frame540.jpg\n",
            "Creating..../image/frame541.jpg\n",
            "Creating..../image/frame542.jpg\n",
            "Creating..../image/frame543.jpg\n",
            "Creating..../image/frame544.jpg\n",
            "Creating..../image/frame545.jpg\n",
            "Creating..../image/frame546.jpg\n",
            "Creating..../image/frame547.jpg\n",
            "Creating..../image/frame548.jpg\n",
            "Creating..../image/frame549.jpg\n",
            "Creating..../image/frame550.jpg\n",
            "Creating..../image/frame551.jpg\n",
            "Creating..../image/frame552.jpg\n",
            "Creating..../image/frame553.jpg\n",
            "Creating..../image/frame554.jpg\n",
            "Creating..../image/frame555.jpg\n",
            "Creating..../image/frame556.jpg\n",
            "Creating..../image/frame557.jpg\n",
            "Creating..../image/frame558.jpg\n",
            "Creating..../image/frame559.jpg\n",
            "Creating..../image/frame560.jpg\n",
            "Creating..../image/frame561.jpg\n",
            "Creating..../image/frame562.jpg\n",
            "Creating..../image/frame563.jpg\n",
            "Creating..../image/frame564.jpg\n",
            "Creating..../image/frame565.jpg\n",
            "Creating..../image/frame566.jpg\n",
            "Creating..../image/frame567.jpg\n",
            "Creating..../image/frame568.jpg\n",
            "Creating..../image/frame569.jpg\n",
            "Creating..../image/frame570.jpg\n",
            "Creating..../image/frame571.jpg\n",
            "Creating..../image/frame572.jpg\n",
            "Creating..../image/frame573.jpg\n",
            "Creating..../image/frame574.jpg\n",
            "Creating..../image/frame575.jpg\n"
          ],
          "name": "stdout"
        }
      ]
    },
    {
      "metadata": {
        "id": "cBUAHmlyAWA6",
        "colab_type": "code",
        "colab": {
          "base_uri": "https://localhost:8080/",
          "height": 34
        },
        "outputId": "2b87a29a-c331-4150-d08a-8e9c3d4150db"
      },
      "cell_type": "code",
      "source": [
        "vid.get(cv.cv2.CAP_PROP_FPS)"
      ],
      "execution_count": 48,
      "outputs": [
        {
          "output_type": "execute_result",
          "data": {
            "text/plain": [
              "23.976023976023978"
            ]
          },
          "metadata": {
            "tags": []
          },
          "execution_count": 48
        }
      ]
    },
    {
      "metadata": {
        "id": "EngfOMFC-OWK",
        "colab_type": "code",
        "colab": {
          "base_uri": "https://localhost:8080/",
          "height": 34
        },
        "outputId": "327d32e2-79b5-4409-e950-90fe745bdee0"
      },
      "cell_type": "code",
      "source": [
        "vid.get(cv.cv2.CAP_PROP_FRAME_COUNT)"
      ],
      "execution_count": 49,
      "outputs": [
        {
          "output_type": "execute_result",
          "data": {
            "text/plain": [
              "576.0"
            ]
          },
          "metadata": {
            "tags": []
          },
          "execution_count": 49
        }
      ]
    },
    {
      "metadata": {
        "colab_type": "code",
        "outputId": "380019d6-6afc-42f7-f837-ec7534d5af5e",
        "id": "QQLkoIpQA9-3",
        "colab": {
          "base_uri": "https://localhost:8080/",
          "height": 34
        }
      },
      "cell_type": "code",
      "source": [
        "vid.get(cv.cv2.CAP_PROP_FRAME_COUNT) / vid.get(cv.cv2.CAP_PROP_FPS)"
      ],
      "execution_count": 50,
      "outputs": [
        {
          "output_type": "execute_result",
          "data": {
            "text/plain": [
              "24.023999999999997"
            ]
          },
          "metadata": {
            "tags": []
          },
          "execution_count": 50
        }
      ]
    },
    {
      "metadata": {
        "id": "-NZyhc0-GlhI",
        "colab_type": "code",
        "colab": {
          "base_uri": "https://localhost:8080/",
          "height": 119
        },
        "outputId": "8a53dd43-24fe-4b1b-c440-b778c03484a0"
      },
      "cell_type": "code",
      "source": [
        "!curl -L https://yt-dl.org/downloads/latest/youtube-dl -o /usr/local/bin/youtube-dl"
      ],
      "execution_count": 32,
      "outputs": [
        {
          "output_type": "stream",
          "text": [
            "  % Total    % Received % Xferd  Average Speed   Time    Time     Time  Current\n",
            "                                 Dload  Upload   Total   Spent    Left  Speed\n",
            "  0     3    0     0    0     0      0      0 --:--:--  0:00:01 --:--:--     0\n",
            "  0     3    0     0    0     0      0      0 --:--:--  0:00:01 --:--:--     0\n",
            "100   599    0   599    0     0    316      0 --:--:--  0:00:01 --:--:--  4572\n",
            "100 1679k  100 1679k    0     0   418k      0  0:00:04  0:00:04 --:--:-- 1194k\n"
          ],
          "name": "stdout"
        }
      ]
    },
    {
      "metadata": {
        "id": "VK43rOg7KlKl",
        "colab_type": "code",
        "colab": {
          "base_uri": "https://localhost:8080/",
          "height": 170
        },
        "outputId": "88591e48-4261-45eb-f206-baf22a67bd75"
      },
      "cell_type": "code",
      "source": [
        "!youtube-dl 'https://www.youtube.com/watch?v=Cn5l7HJaYuA' -f 'bestvideo[ext=mp4]+bestaudio[ext=m4a]/best[ext=mp4]/best'"
      ],
      "execution_count": 40,
      "outputs": [
        {
          "output_type": "stream",
          "text": [
            "[youtube] Cn5l7HJaYuA: Downloading webpage\n",
            "[youtube] Cn5l7HJaYuA: Downloading video info webpage\n",
            "[download] Destination: 'Piper' Clip - Finding Dory - In Theatres this Friday!-Cn5l7HJaYuA.f137.mp4\n",
            "\u001b[K[download] 100% of 6.93MiB in 00:00\n",
            "[download] Destination: 'Piper' Clip - Finding Dory - In Theatres this Friday!-Cn5l7HJaYuA.f140.m4a\n",
            "\u001b[K[download] 100% of 381.30KiB in 00:00\n",
            "[ffmpeg] Merging formats into \"'Piper' Clip - Finding Dory - In Theatres this Friday!-Cn5l7HJaYuA.mp4\"\n",
            "Deleting original file 'Piper' Clip - Finding Dory - In Theatres this Friday!-Cn5l7HJaYuA.f137.mp4 (pass -k to keep)\n",
            "Deleting original file 'Piper' Clip - Finding Dory - In Theatres this Friday!-Cn5l7HJaYuA.f140.m4a (pass -k to keep)\n"
          ],
          "name": "stdout"
        }
      ]
    },
    {
      "metadata": {
        "id": "xjZs0m85M9SQ",
        "colab_type": "code",
        "colab": {
          "base_uri": "https://localhost:8080/",
          "height": 170
        },
        "outputId": "c572dfac-0062-41ae-a2fc-52f378695730"
      },
      "cell_type": "code",
      "source": [
        "!youtube-dl Cn5l7HJaYuA -o 't/test.mp4' -f 'bestvideo[ext=mp4]+bestaudio[ext=m4a]/best[ext=mp4]/best'"
      ],
      "execution_count": 51,
      "outputs": [
        {
          "output_type": "stream",
          "text": [
            "[youtube] Cn5l7HJaYuA: Downloading webpage\n",
            "[youtube] Cn5l7HJaYuA: Downloading video info webpage\n",
            "[download] Destination: t/test.f137.mp4\n",
            "\u001b[K[download] 100% of 6.93MiB in 00:00\n",
            "[download] Destination: t/test.mp4.f140\n",
            "\u001b[K[download] 100% of 381.30KiB in 00:00\n",
            "[ffmpeg] Merging formats into \"t/test.mp4\"\n",
            "Deleting original file t/test.f137.mp4 (pass -k to keep)\n",
            "Deleting original file t/test.mp4.f140 (pass -k to keep)\n"
          ],
          "name": "stdout"
        }
      ]
    }
  ]
}