{
  "nbformat": 4,
  "nbformat_minor": 0,
  "metadata": {
    "colab": {
      "name": "Download multiple videos from Youtube and extract frames.ipynb",
      "version": "0.3.2",
      "provenance": [],
      "toc_visible": true,
      "include_colab_link": true
    },
    "kernelspec": {
      "name": "python3",
      "display_name": "Python 3"
    },
    "accelerator": "GPU"
  },
  "cells": [
    {
      "cell_type": "markdown",
      "metadata": {
        "id": "view-in-github",
        "colab_type": "text"
      },
      "source": [
        "<a href=\"https://colab.research.google.com/github/mohammadzainabbas/Channel_Logo_Detection/blob/master/Download_multiple_videos_from_Youtube_and_extract_frames.ipynb\" target=\"_parent\"><img src=\"https://colab.research.google.com/assets/colab-badge.svg\" alt=\"Open In Colab\"/></a>"
      ]
    },
    {
      "metadata": {
        "id": "g6574rImRADk",
        "colab_type": "code",
        "outputId": "1782203d-b42c-4c7f-b3c1-e5f0d9edc862",
        "colab": {
          "base_uri": "https://localhost:8080/",
          "height": 122
        }
      },
      "cell_type": "code",
      "source": [
        "# Load the Drive helper and mount\n",
        "from google.colab import drive\n",
        "\n",
        "# This will prompt for authorization.\n",
        "drive.mount('/content/drive')"
      ],
      "execution_count": 0,
      "outputs": [
        {
          "output_type": "stream",
          "text": [
            "Go to this URL in a browser: https://accounts.google.com/o/oauth2/auth?client_id=947318989803-6bn6qk8qdgf4n4g3pfee6491hc0brc4i.apps.googleusercontent.com&redirect_uri=urn%3Aietf%3Awg%3Aoauth%3A2.0%3Aoob&scope=email%20https%3A%2F%2Fwww.googleapis.com%2Fauth%2Fdocs.test%20https%3A%2F%2Fwww.googleapis.com%2Fauth%2Fdrive%20https%3A%2F%2Fwww.googleapis.com%2Fauth%2Fdrive.photos.readonly%20https%3A%2F%2Fwww.googleapis.com%2Fauth%2Fpeopleapi.readonly&response_type=code\n",
            "\n",
            "Enter your authorization code:\n",
            "··········\n",
            "Mounted at /content/drive\n"
          ],
          "name": "stdout"
        }
      ]
    },
    {
      "metadata": {
        "id": "MbxdjBqFRKXS",
        "colab_type": "code",
        "colab": {}
      },
      "cell_type": "code",
      "source": [
        "import numpy as np\n",
        "import cv2 as cv\n",
        "import os\n",
        "import subprocess\n",
        "import time\n",
        "\n",
        "np.set_printoptions(precision=2, suppress=True, linewidth=150)"
      ],
      "execution_count": 0,
      "outputs": []
    },
    {
      "metadata": {
        "id": "evFUj4Jo3SZJ",
        "colab_type": "text"
      },
      "cell_type": "markdown",
      "source": [
        "### *Provide TV channels name and their videos' link*"
      ]
    },
    {
      "metadata": {
        "id": "y2_Sh7IjxkR5",
        "colab_type": "code",
        "colab": {}
      },
      "cell_type": "code",
      "source": [
        "#tv_channels = ['geo_news', 'ary_news', 'sama_news', 'express_news', 'bol_news', 'dunya_news', 'express_news', 'dawn_news']\n",
        "tv_channels = ['geo_news', 'ary_news']\n",
        "videos_to_download = {}\n",
        "## For Geo News\n",
        "videos_to_download[tv_channels[0]] = ['https://www.youtube.com/watch?v=JsBTVi669AE','https://www.youtube.com/watch?v=pDs2sFTrroM', \n",
        "                                      'https://www.youtube.com/watch?v=MBVVKLhsPHA','https://www.youtube.com/watch?v=iobIk8w9yKY',\n",
        "                                      'https://www.youtube.com/watch?v=bwQuR0SqCVg','https://www.youtube.com/watch?v=_tKxGFKpx9k',\n",
        "                                      'https://www.youtube.com/watch?v=DgRJDTJhoxI','https://www.youtube.com/watch?v=9MFkN1olbCE',\n",
        "                                      'https://www.youtube.com/watch?v=DGA2F5kiU5M','https://www.youtube.com/watch?v=EynhutRfI-I']\n",
        "## For ARY News\n",
        "videos_to_download[tv_channels[1]] = ['https://www.youtube.com/watch?v=LVrsNPZO2so','https://www.youtube.com/watch?v=bCgEkQgqNKk', \n",
        "                                      'https://www.youtube.com/watch?v=JPUkfsYCq44','https://www.youtube.com/watch?v=GhBPjwQ4u-Q',\n",
        "                                      'https://www.youtube.com/watch?v=5RY3tTh-_fA','https://www.youtube.com/watch?v=ZUNnNtL3mB8',\n",
        "                                      'https://www.youtube.com/watch?v=W76a2gt6ioc','https://www.youtube.com/watch?v=poMHGBMt7oQ',\n",
        "                                      'https://www.youtube.com/watch?v=bZyyk9KTm30','https://www.youtube.com/watch?v=eMKkNGj_wEg']\n",
        "# ## For Sama News\n",
        "# videos_to_download[tv_channels[2]] = ['','', \n",
        "#                                       '','',\n",
        "#                                       '','',\n",
        "#                                       '','',\n",
        "#                                       '','']\n",
        "# ## For Express News\n",
        "# videos_to_download[tv_channels[3]] = ['','', \n",
        "#                                       '','',\n",
        "#                                       '','',\n",
        "#                                       '','',\n",
        "#                                       '','']\n",
        "# ## For Bol News\n",
        "# videos_to_download[tv_channels[4]] = ['','', \n",
        "#                                       '','',\n",
        "#                                       '','',\n",
        "#                                       '','',\n",
        "#                                       '','']\n",
        "# ## For Dunya News\n",
        "# videos_to_download[tv_channels[5]] = ['','', \n",
        "#                                       '','',\n",
        "#                                       '','',\n",
        "#                                       '','',\n",
        "#                                       '','']\n",
        "# ## For Express News\n",
        "# videos_to_download[tv_channels[6]] = ['','', \n",
        "#                                       '','',\n",
        "#                                       '','',\n",
        "#                                       '','',\n",
        "#                                       '','']\n",
        "# ## For Dawn News\n",
        "# videos_to_download[tv_channels[7]] = ['','', \n",
        "#                                       '','',\n",
        "#                                       '','',\n",
        "#                                       '','',\n",
        "#                                       '','']\n",
        "\n"
      ],
      "execution_count": 0,
      "outputs": []
    },
    {
      "metadata": {
        "id": "Hi11JHdk4eFc",
        "colab_type": "code",
        "outputId": "321d81d6-e056-4125-87b3-9dc7a67cfb41",
        "colab": {
          "base_uri": "https://localhost:8080/",
          "height": 357
        }
      },
      "cell_type": "code",
      "source": [
        "for key in videos_to_download.keys():\n",
        "  for value in videos_to_download[key]:\n",
        "    print('Key: {} Value: {}'.format(key, value))"
      ],
      "execution_count": 0,
      "outputs": [
        {
          "output_type": "stream",
          "text": [
            "Key: geo_news Value: https://www.youtube.com/watch?v=JsBTVi669AE\n",
            "Key: geo_news Value: https://www.youtube.com/watch?v=pDs2sFTrroM\n",
            "Key: geo_news Value: https://www.youtube.com/watch?v=MBVVKLhsPHA\n",
            "Key: geo_news Value: https://www.youtube.com/watch?v=iobIk8w9yKY\n",
            "Key: geo_news Value: https://www.youtube.com/watch?v=bwQuR0SqCVg\n",
            "Key: geo_news Value: https://www.youtube.com/watch?v=_tKxGFKpx9k\n",
            "Key: geo_news Value: https://www.youtube.com/watch?v=DgRJDTJhoxI\n",
            "Key: geo_news Value: https://www.youtube.com/watch?v=9MFkN1olbCE\n",
            "Key: geo_news Value: https://www.youtube.com/watch?v=DGA2F5kiU5M\n",
            "Key: geo_news Value: https://www.youtube.com/watch?v=EynhutRfI-I\n",
            "Key: ary_news Value: https://www.youtube.com/watch?v=LVrsNPZO2so\n",
            "Key: ary_news Value: https://www.youtube.com/watch?v=bCgEkQgqNKk\n",
            "Key: ary_news Value: https://www.youtube.com/watch?v=JPUkfsYCq44\n",
            "Key: ary_news Value: https://www.youtube.com/watch?v=GhBPjwQ4u-Q\n",
            "Key: ary_news Value: https://www.youtube.com/watch?v=5RY3tTh-_fA\n",
            "Key: ary_news Value: https://www.youtube.com/watch?v=ZUNnNtL3mB8\n",
            "Key: ary_news Value: https://www.youtube.com/watch?v=W76a2gt6ioc\n",
            "Key: ary_news Value: https://www.youtube.com/watch?v=poMHGBMt7oQ\n",
            "Key: ary_news Value: https://www.youtube.com/watch?v=bZyyk9KTm30\n",
            "Key: ary_news Value: https://www.youtube.com/watch?v=eMKkNGj_wEg\n"
          ],
          "name": "stdout"
        }
      ]
    },
    {
      "metadata": {
        "id": "9-mV0FGz3nUg",
        "colab_type": "text"
      },
      "cell_type": "markdown",
      "source": [
        "### Downloading videos and saving them into their respective folders"
      ]
    },
    {
      "metadata": {
        "id": "MoOhzReIxiET",
        "colab_type": "code",
        "outputId": "49d83a7f-ceaf-424e-f9de-e223e1cc2af9",
        "colab": {
          "base_uri": "https://localhost:8080/",
          "height": 394
        }
      },
      "cell_type": "code",
      "source": [
        "args = ['curl -L https://yt-dl.org/downloads/latest/youtube-dl -o /usr/local/bin/youtube-dl'] ## To download the youtube-dl \n",
        "\n",
        "#youtube-dl 6v2cS1esOoU -o 'drive/My Drive/app/Test_Logo_Detection/videos/geo_test.mp4' -f 'bestvideo[ext=mp4]+bestaudio[ext=m4a]/best[ext=mp4]/best'\n",
        "\n",
        "dir_loc = 'drive/My Drive/app/Test_Logo_Detection/videos/'\n",
        "sec = int(30)\n",
        "#proxy_server = '--proxy \"113.203.238.179:32266\"'\n",
        "### Preparing commands\n",
        "for key in videos_to_download.keys():\n",
        "  for value in videos_to_download[key]:\n",
        "    file_name = key + value.replace('https://www.youtube.com/watch?v=','_') + '.mp4' \n",
        "    cmd = '!youtube-dl ' + value + ' -o ' + \"'\" + dir_loc + file_name + \"'\" + \" -f 'bestvideo[ext=mp4]+bestaudio[ext=m4a]/best[ext=mp4]/best'\" #+ proxy_server\n",
        "    args.append(cmd)\n",
        "for item in args:\n",
        "  print(item)\n",
        "#args = ['ls', 'pwd', 'ls -a']\n",
        "\n",
        "# output = {}\n",
        "# for cmd in args:\n",
        "#   print(cmd)\n",
        "#  subprocess.call(cmd.split(' '), shell=True)\n",
        "#   process = subprocess.Popen(str(cmd), shell=True, stdout=subprocess.PIPE)\n",
        "#   output[cmd] = ''.join(str(e, 'utf-8') for e in process.stdout.readlines())\n",
        "#   print(output[cmd])\n",
        "#   print(''.join(str(e, 'utf-8') for e in process.stdout.readlines()))\n",
        "#   process.wait()\n"
      ],
      "execution_count": 0,
      "outputs": [
        {
          "output_type": "stream",
          "text": [
            "curl -L https://yt-dl.org/downloads/latest/youtube-dl -o /usr/local/bin/youtube-dl\n",
            "!youtube-dl https://www.youtube.com/watch?v=JsBTVi669AE -o 'drive/My Drive/app/Test_Logo_Detection/videos/geo_news_JsBTVi669AE.mp4' -f 'bestvideo[ext=mp4]+bestaudio[ext=m4a]/best[ext=mp4]/best'\n",
            "!youtube-dl https://www.youtube.com/watch?v=pDs2sFTrroM -o 'drive/My Drive/app/Test_Logo_Detection/videos/geo_news_pDs2sFTrroM.mp4' -f 'bestvideo[ext=mp4]+bestaudio[ext=m4a]/best[ext=mp4]/best'\n",
            "!youtube-dl https://www.youtube.com/watch?v=MBVVKLhsPHA -o 'drive/My Drive/app/Test_Logo_Detection/videos/geo_news_MBVVKLhsPHA.mp4' -f 'bestvideo[ext=mp4]+bestaudio[ext=m4a]/best[ext=mp4]/best'\n",
            "!youtube-dl https://www.youtube.com/watch?v=iobIk8w9yKY -o 'drive/My Drive/app/Test_Logo_Detection/videos/geo_news_iobIk8w9yKY.mp4' -f 'bestvideo[ext=mp4]+bestaudio[ext=m4a]/best[ext=mp4]/best'\n",
            "!youtube-dl https://www.youtube.com/watch?v=bwQuR0SqCVg -o 'drive/My Drive/app/Test_Logo_Detection/videos/geo_news_bwQuR0SqCVg.mp4' -f 'bestvideo[ext=mp4]+bestaudio[ext=m4a]/best[ext=mp4]/best'\n",
            "!youtube-dl https://www.youtube.com/watch?v=_tKxGFKpx9k -o 'drive/My Drive/app/Test_Logo_Detection/videos/geo_news__tKxGFKpx9k.mp4' -f 'bestvideo[ext=mp4]+bestaudio[ext=m4a]/best[ext=mp4]/best'\n",
            "!youtube-dl https://www.youtube.com/watch?v=DgRJDTJhoxI -o 'drive/My Drive/app/Test_Logo_Detection/videos/geo_news_DgRJDTJhoxI.mp4' -f 'bestvideo[ext=mp4]+bestaudio[ext=m4a]/best[ext=mp4]/best'\n",
            "!youtube-dl https://www.youtube.com/watch?v=9MFkN1olbCE -o 'drive/My Drive/app/Test_Logo_Detection/videos/geo_news_9MFkN1olbCE.mp4' -f 'bestvideo[ext=mp4]+bestaudio[ext=m4a]/best[ext=mp4]/best'\n",
            "!youtube-dl https://www.youtube.com/watch?v=DGA2F5kiU5M -o 'drive/My Drive/app/Test_Logo_Detection/videos/geo_news_DGA2F5kiU5M.mp4' -f 'bestvideo[ext=mp4]+bestaudio[ext=m4a]/best[ext=mp4]/best'\n",
            "!youtube-dl https://www.youtube.com/watch?v=EynhutRfI-I -o 'drive/My Drive/app/Test_Logo_Detection/videos/geo_news_EynhutRfI-I.mp4' -f 'bestvideo[ext=mp4]+bestaudio[ext=m4a]/best[ext=mp4]/best'\n",
            "!youtube-dl https://www.youtube.com/watch?v=LVrsNPZO2so -o 'drive/My Drive/app/Test_Logo_Detection/videos/ary_news_LVrsNPZO2so.mp4' -f 'bestvideo[ext=mp4]+bestaudio[ext=m4a]/best[ext=mp4]/best'\n",
            "!youtube-dl https://www.youtube.com/watch?v=bCgEkQgqNKk -o 'drive/My Drive/app/Test_Logo_Detection/videos/ary_news_bCgEkQgqNKk.mp4' -f 'bestvideo[ext=mp4]+bestaudio[ext=m4a]/best[ext=mp4]/best'\n",
            "!youtube-dl https://www.youtube.com/watch?v=JPUkfsYCq44 -o 'drive/My Drive/app/Test_Logo_Detection/videos/ary_news_JPUkfsYCq44.mp4' -f 'bestvideo[ext=mp4]+bestaudio[ext=m4a]/best[ext=mp4]/best'\n",
            "!youtube-dl https://www.youtube.com/watch?v=GhBPjwQ4u-Q -o 'drive/My Drive/app/Test_Logo_Detection/videos/ary_news_GhBPjwQ4u-Q.mp4' -f 'bestvideo[ext=mp4]+bestaudio[ext=m4a]/best[ext=mp4]/best'\n",
            "!youtube-dl https://www.youtube.com/watch?v=5RY3tTh-_fA -o 'drive/My Drive/app/Test_Logo_Detection/videos/ary_news_5RY3tTh-_fA.mp4' -f 'bestvideo[ext=mp4]+bestaudio[ext=m4a]/best[ext=mp4]/best'\n",
            "!youtube-dl https://www.youtube.com/watch?v=ZUNnNtL3mB8 -o 'drive/My Drive/app/Test_Logo_Detection/videos/ary_news_ZUNnNtL3mB8.mp4' -f 'bestvideo[ext=mp4]+bestaudio[ext=m4a]/best[ext=mp4]/best'\n",
            "!youtube-dl https://www.youtube.com/watch?v=W76a2gt6ioc -o 'drive/My Drive/app/Test_Logo_Detection/videos/ary_news_W76a2gt6ioc.mp4' -f 'bestvideo[ext=mp4]+bestaudio[ext=m4a]/best[ext=mp4]/best'\n",
            "!youtube-dl https://www.youtube.com/watch?v=poMHGBMt7oQ -o 'drive/My Drive/app/Test_Logo_Detection/videos/ary_news_poMHGBMt7oQ.mp4' -f 'bestvideo[ext=mp4]+bestaudio[ext=m4a]/best[ext=mp4]/best'\n",
            "!youtube-dl https://www.youtube.com/watch?v=bZyyk9KTm30 -o 'drive/My Drive/app/Test_Logo_Detection/videos/ary_news_bZyyk9KTm30.mp4' -f 'bestvideo[ext=mp4]+bestaudio[ext=m4a]/best[ext=mp4]/best'\n",
            "!youtube-dl https://www.youtube.com/watch?v=eMKkNGj_wEg -o 'drive/My Drive/app/Test_Logo_Detection/videos/ary_news_eMKkNGj_wEg.mp4' -f 'bestvideo[ext=mp4]+bestaudio[ext=m4a]/best[ext=mp4]/best'\n"
          ],
          "name": "stdout"
        }
      ]
    },
    {
      "metadata": {
        "id": "lgPosXAsV08E",
        "colab_type": "code",
        "outputId": "34ba6236-244b-4f64-9f00-5efc435f7432",
        "colab": {
          "base_uri": "https://localhost:8080/",
          "height": 119
        }
      },
      "cell_type": "code",
      "source": [
        "!curl -L https://yt-dl.org/downloads/latest/youtube-dl -o /usr/local/bin/youtube-dl\n"
      ],
      "execution_count": 0,
      "outputs": [
        {
          "output_type": "stream",
          "text": [
            "  % Total    % Received % Xferd  Average Speed   Time    Time     Time  Current\n",
            "                                 Dload  Upload   Total   Spent    Left  Speed\n",
            "  0     3    0     0    0     0      0      0 --:--:-- --:--:-- --:--:--     0\n",
            "  0     3    0     0    0     0      0      0 --:--:-- --:--:-- --:--:--     0\n",
            "100   599    0   599    0     0    522      0 --:--:--  0:00:01 --:--:--   522\n",
            "100 1680k  100 1680k    0     0  1092k      0  0:00:01  0:00:01 --:--:-- 18.4M\n"
          ],
          "name": "stdout"
        }
      ]
    },
    {
      "metadata": {
        "id": "xf5QYTyxU06L",
        "colab_type": "code",
        "outputId": "8075c5f1-46b5-4872-e46d-55ad02e68bc8",
        "colab": {
          "base_uri": "https://localhost:8080/",
          "height": 272
        }
      },
      "cell_type": "code",
      "source": [
        "!curl -L https://yt-dl.org/downloads/latest/youtube-dl -o /usr/local/bin/youtube-dl\n",
        "!chmod a+x /usr/local/bin/youtube-dl\n",
        "!youtube-dl https://www.youtube.com/watch?v=JsBTVi669AE -o 'drive/My Drive/app/Test_Logo_Detection/videos/geo_news_JsBTVi669AE.mp4' -f 'bestvideo[ext=mp4]+bestaudio[ext=m4a]/best[ext=mp4]/best'\n",
        "!youtube-dl https://www.youtube.com/watch?v=pDs2sFTrroM -o 'drive/My Drive/app/Test_Logo_Detection/videos/geo_news_pDs2sFTrroM.mp4' -f 'bestvideo[ext=mp4]+bestaudio[ext=m4a]/best[ext=mp4]/best'\n",
        "!youtube-dl https://www.youtube.com/watch?v=MBVVKLhsPHA -o 'drive/My Drive/app/Test_Logo_Detection/videos/geo_news_MBVVKLhsPHA.mp4' -f 'bestvideo[ext=mp4]+bestaudio[ext=m4a]/best[ext=mp4]/best'\n"
      ],
      "execution_count": 0,
      "outputs": [
        {
          "output_type": "stream",
          "text": [
            "  % Total    % Received % Xferd  Average Speed   Time    Time     Time  Current\n",
            "                                 Dload  Upload   Total   Spent    Left  Speed\n",
            "\r  0     0    0     0    0     0      0      0 --:--:-- --:--:-- --:--:--     0\r  0     3    0     0    0     0      0      0 --:--:-- --:--:-- --:--:--     0\n",
            "  0     3    0     0    0     0      0      0 --:--:-- --:--:-- --:--:--     0\n",
            "100   599    0   599    0     0    864      0 --:--:-- --:--:-- --:--:--  584k\n",
            "100 1680k  100 1680k    0     0  1069k      0  0:00:01  0:00:01 --:--:-- 1069k\n",
            "[youtube] JsBTVi669AE: Downloading webpage\n",
            "[youtube] JsBTVi669AE: Downloading video info webpage\n",
            "\u001b[0;31mERROR:\u001b[0m The uploader has not made this video available in your country.\n",
            "[youtube] pDs2sFTrroM: Downloading webpage\n",
            "[youtube] pDs2sFTrroM: Downloading video info webpage\n",
            "\u001b[0;31mERROR:\u001b[0m The uploader has not made this video available in your country.\n",
            "[youtube] MBVVKLhsPHA: Downloading webpage\n",
            "[youtube] MBVVKLhsPHA: Downloading video info webpage\n",
            "\u001b[0;31mERROR:\u001b[0m The uploader has not made this video available in your country.\n"
          ],
          "name": "stdout"
        }
      ]
    },
    {
      "metadata": {
        "id": "MDtygK2jYbhN",
        "colab_type": "text"
      },
      "cell_type": "markdown",
      "source": [
        "#### Now extracting videos from frames"
      ]
    },
    {
      "metadata": {
        "id": "NF52KipsYaq9",
        "colab_type": "code",
        "colab": {}
      },
      "cell_type": "code",
      "source": [
        "dir_loc = 'drive/My Drive/app/Test_Logo_Detection/videos/'\n",
        "geo_img_dir = 'drive/My Drive/app/Test_Logo_Detection/images/geo_image'\n",
        "ary_img_dir = 'drive/My Drive/app/Test_Logo_Detection/images/ary_image'\n",
        "\n",
        "sec = int(30)\n",
        "### Preparing commands\n",
        "for key in videos_to_download.keys():\n",
        "  for value in videos_to_download[key]:\n",
        "    file_name = key + value.replace('https://www.youtube.com/watch?v=','_') + '.mp4' \n",
        "    cmd = 'youtube-dl ' + value + ' -o ' + \"'\" + dir_loc + file_name + \"'\" + \" -f 'bestvideo[ext=mp4]+bestaudio[ext=m4a]/best[ext=mp4]/best'\"\n",
        "    args.append(cmd)\n",
        "for item in args:\n",
        "  print(item)"
      ],
      "execution_count": 0,
      "outputs": []
    },
    {
      "metadata": {
        "id": "jx4t2ZAVYsiJ",
        "colab_type": "code",
        "outputId": "d2d02d56-3301-4400-b2be-fe068740cc75",
        "colab": {
          "base_uri": "https://localhost:8080/",
          "height": 238
        }
      },
      "cell_type": "code",
      "source": [
        "dir_loc = 'drive/My Drive/app/Test_Logo_Detection/videos/'\n",
        "geo_img_dir = 'drive/My Drive/app/Test_Logo_Detection/images/geo_images'\n",
        "ary_img_dir = 'drive/My Drive/app/Test_Logo_Detection/images/ary_images'\n",
        "vid_list = os.listdir(dir_loc)\n",
        "for i in vid_list:\n",
        "  if 'geo' in i:\n",
        "    print(dir_loc + i.split('_')[0])"
      ],
      "execution_count": 0,
      "outputs": [
        {
          "output_type": "stream",
          "text": [
            "drive/My Drive/app/Test_Logo_Detection/videos/geo\n",
            "drive/My Drive/app/Test_Logo_Detection/videos/geo\n",
            "drive/My Drive/app/Test_Logo_Detection/videos/geo\n",
            "drive/My Drive/app/Test_Logo_Detection/videos/geo\n",
            "drive/My Drive/app/Test_Logo_Detection/videos/geo\n",
            "drive/My Drive/app/Test_Logo_Detection/videos/geo\n",
            "drive/My Drive/app/Test_Logo_Detection/videos/geo\n",
            "drive/My Drive/app/Test_Logo_Detection/videos/geo\n",
            "drive/My Drive/app/Test_Logo_Detection/videos/geo\n",
            "drive/My Drive/app/Test_Logo_Detection/videos/geo\n",
            "drive/My Drive/app/Test_Logo_Detection/videos/geo\n",
            "drive/My Drive/app/Test_Logo_Detection/videos/geo\n",
            "drive/My Drive/app/Test_Logo_Detection/videos/geo\n"
          ],
          "name": "stdout"
        }
      ]
    },
    {
      "metadata": {
        "id": "Bnj7fcV8Sw6B",
        "colab_type": "code",
        "outputId": "0af57ec5-fbf6-49b9-ff74-64067fa8c36a",
        "colab": {
          "base_uri": "https://localhost:8080/",
          "height": 408
        }
      },
      "cell_type": "code",
      "source": [
        "\n",
        "\n",
        "if not os.path.exists(geo_img_dir):\n",
        "  os.makedirs(geo_img_dir)\n",
        "if not os.path.exists(ary_img_dir):\n",
        "  os.makedirs(ary_img_dir)\n",
        "\n",
        "for video in os.listdir(dir_loc):\n",
        "  vid_loc = dir_loc + video\n",
        "  # set video file path of input video with name and extension\n",
        "  vid = cv.VideoCapture(vid_loc)\n",
        "\n",
        "  #for frame identity\n",
        "  index = 0\n",
        "  while(True):\n",
        "    # Extract images\n",
        "    ret, frame = vid.read()\n",
        "    # end of frames\n",
        "    if not ret:\n",
        "      break\n",
        "    # Saves images\n",
        "    if 'geo' in video:\n",
        "      name = geo_img_dir + '/' + video.replace('.mp4','') + 'frame' + str(index) + '.jpg'\n",
        "    else:\n",
        "      name = ary_img_dir + '/' + video.replace('.mp4','') + 'frame' + str(index) + '.jpg'      \n",
        "    #print ('Creating...' + name)\n",
        "    cv.imwrite(name, frame)\n",
        "\n",
        "    # next frame\n",
        "    index += 1\n",
        "  print('Created frames for {} done'.format(video))"
      ],
      "execution_count": 0,
      "outputs": [
        {
          "output_type": "stream",
          "text": [
            "Created frames for geo_news_MBVVKLhsPHA.mp4 done\n",
            "Created frames for geo_news_DgRJDTJhoxI.mp4 done\n",
            "Created frames for geo_news_iobIk8w9yKY.mp4 done\n",
            "Created frames for geo_news_pDs2sFTrroM.mp4 done\n",
            "Created frames for geo_news_DGA2F5kiU5M.mp4 done\n",
            "Created frames for geo_news_EynhutRfI-I.mp4 done\n",
            "Created frames for geo_news_JsBTVi669AE.mp4 done\n",
            "Created frames for geo_news__tKxGFKpx9k.mp4 done\n",
            "Created frames for geo_news_bwQuR0SqCVg.mp4 done\n",
            "Created frames for geo_news_9MFkN1olbCE.mp4 done\n",
            "Created frames for geo_news_BRePykQoGeE.mp4 done\n",
            "Created frames for geo_news_P1BcJQQ7xLE.mp4 done\n",
            "Created frames for geo_test.mp4 done\n",
            "Created frames for ary_news_LVrsNPZO2so.mp4 done\n",
            "Created frames for ary_news_bCgEkQgqNKk.mp4 done\n",
            "Created frames for ary_news_JPUkfsYCq44.mp4 done\n",
            "Created frames for ary_news_GhBPjwQ4u-Q.mp4 done\n",
            "Created frames for ary_news_5RY3tTh-_fA.mp4 done\n",
            "Created frames for ary_news_ZUNnNtL3mB8.mp4 done\n",
            "Created frames for ary_news_W76a2gt6ioc.mp4 done\n",
            "Created frames for ary_news_poMHGBMt7oQ.mp4 done\n",
            "Created frames for ary_news_bZyyk9KTm30.mp4 done\n",
            "Created frames for ary_news_eMKkNGj_wEg.mp4 done\n"
          ],
          "name": "stdout"
        }
      ]
    },
    {
      "metadata": {
        "id": "BJ6KyG-paQD3",
        "colab_type": "code",
        "outputId": "f887b89c-fb20-4c3d-80f7-7b745638b565",
        "colab": {
          "base_uri": "https://localhost:8080/",
          "height": 34
        }
      },
      "cell_type": "code",
      "source": [
        "geo_img_list = os.listdir(geo_img_dir)\n",
        "ary_img_list = os.listdir(ary_img_dir)\n",
        "print('Total {} geo images and {} ary images'.format(len(geo_img_list), len(ary_img_list)))"
      ],
      "execution_count": 0,
      "outputs": [
        {
          "output_type": "stream",
          "text": [
            "Total 118109 geo images and 107160 ary images\n"
          ],
          "name": "stdout"
        }
      ]
    }
  ]
}