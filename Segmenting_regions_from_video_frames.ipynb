{
  "nbformat": 4,
  "nbformat_minor": 0,
  "metadata": {
    "colab": {
      "name": "Segmenting regions from video frames.ipynb",
      "version": "0.3.2",
      "provenance": [],
      "toc_visible": true,
      "include_colab_link": true
    },
    "kernelspec": {
      "name": "python3",
      "display_name": "Python 3"
    }
  },
  "cells": [
    {
      "cell_type": "markdown",
      "metadata": {
        "id": "view-in-github",
        "colab_type": "text"
      },
      "source": [
        "<a href=\"https://colab.research.google.com/github/mohammadzainabbas/Channel_Logo_Detection/blob/master/Segmenting_regions_from_video_frames.ipynb\" target=\"_parent\"><img src=\"https://colab.research.google.com/assets/colab-badge.svg\" alt=\"Open In Colab\"/></a>"
      ]
    },
    {
      "metadata": {
        "id": "mz3aTSeGdYF8",
        "colab_type": "text"
      },
      "cell_type": "markdown",
      "source": [
        "### Mount Drive"
      ]
    },
    {
      "metadata": {
        "id": "g6574rImRADk",
        "colab_type": "code",
        "outputId": "2fe2b61b-00ec-4371-965e-4434d0fbeb5f",
        "colab": {
          "base_uri": "https://localhost:8080/",
          "height": 34
        }
      },
      "cell_type": "code",
      "source": [
        "# Load the Drive helper and mount\n",
        "from google.colab import drive\n",
        "\n",
        "# This will prompt for authorization.\n",
        "drive.mount('/content/drive')"
      ],
      "execution_count": 1,
      "outputs": [
        {
          "output_type": "stream",
          "text": [
            "Drive already mounted at /content/drive; to attempt to forcibly remount, call drive.mount(\"/content/drive\", force_remount=True).\n"
          ],
          "name": "stdout"
        }
      ]
    },
    {
      "metadata": {
        "id": "nFgTujaQdchj",
        "colab_type": "text"
      },
      "cell_type": "markdown",
      "source": [
        "### Import Modules"
      ]
    },
    {
      "metadata": {
        "id": "MbxdjBqFRKXS",
        "colab_type": "code",
        "colab": {}
      },
      "cell_type": "code",
      "source": [
        "import numpy as np\n",
        "import cv2 as cv\n",
        "import os\n",
        "np.set_printoptions(precision=2, suppress=True, linewidth=150)"
      ],
      "execution_count": 0,
      "outputs": []
    },
    {
      "metadata": {
        "id": "zdmviXrydgO9",
        "colab_type": "text"
      },
      "cell_type": "markdown",
      "source": [
        "#### Make list of all images"
      ]
    },
    {
      "metadata": {
        "id": "Kwbapn8UjX2c",
        "colab_type": "code",
        "colab": {
          "base_uri": "https://localhost:8080/",
          "height": 34
        },
        "outputId": "fbb0261e-aa30-43dc-ca37-a3269cc12ee1"
      },
      "cell_type": "code",
      "source": [
        "dir_path = 'drive/My Drive/app/Test_Logo_Detection/images/'\n",
        "img_dict = {}\n",
        "for root, dirs, files in os.walk(dir_path):\n",
        "  for folder in dirs:\n",
        "    img_dict[folder] = os.listdir(dir_path + folder)\n",
        "len(img_dict['geo_image']), len(img_dict.keys())"
      ],
      "execution_count": 15,
      "outputs": [
        {
          "output_type": "execute_result",
          "data": {
            "text/plain": [
              "(1801, 1)"
            ]
          },
          "metadata": {
            "tags": []
          },
          "execution_count": 15
        }
      ]
    },
    {
      "metadata": {
        "id": "xTzQfTwcoazb",
        "colab_type": "code",
        "colab": {}
      },
      "cell_type": "code",
      "source": [
        "for root, dirs, files in os.walk(dir_path):\n",
        "  print('Root: {} Dir: {} File: {}'.format(root, dirs, files))"
      ],
      "execution_count": 0,
      "outputs": []
    },
    {
      "metadata": {
        "id": "zszBy8GRkq3M",
        "colab_type": "code",
        "colab": {}
      },
      "cell_type": "code",
      "source": [
        "for i in img_dict.keys():\n",
        "  for j in img_dict[i]:\n",
        "    print(dir_path+i+'/'+j)"
      ],
      "execution_count": 0,
      "outputs": []
    },
    {
      "metadata": {
        "id": "9LxNzC9hd1uN",
        "colab_type": "text"
      },
      "cell_type": "markdown",
      "source": [
        "#### Iterate over all images in the list and segment them"
      ]
    },
    {
      "metadata": {
        "id": "5xeDapqUWnRj",
        "colab_type": "code",
        "colab": {}
      },
      "cell_type": "code",
      "source": [
        "row_th, col_th = .35, .35\n",
        "\n",
        "for folder in img_dict.keys():\n",
        "  if not os.path.exists(dir_path + folder + '/Top_Left'):\n",
        "    os.makedirs(dir_path + folder + '/Top_Left')\n",
        "  if not os.path.exists(dir_path + folder + '/Top_Right'):\n",
        "    os.makedirs(dir_path + folder + '/Top_Right')\n",
        "  if not os.path.exists(dir_path + folder + '/Bottom_Left'):\n",
        "    os.makedirs(dir_path + folder + '/Bottom_Left')\n",
        "  if not os.path.exists(dir_path + folder + '/Bottom_Right'):\n",
        "    os.makedirs(dir_path + folder + '/Bottom_Right')\n",
        "  if not os.path.exists(dir_path + folder + '/Cropped'):\n",
        "    os.makedirs(dir_path + folder + '/Cropped')\n",
        "    \n",
        "  for img in img_dict[folder]:\n",
        "    a = np.array(cv.imread(dir_path + folder + '/' + img, cv.IMREAD_COLOR))\n",
        "    a1 = a[:int(np.shape(a)[0]*row_th), :int(np.shape(a)[1]*col_th)]\n",
        "    a2 = a[-int(np.shape(a)[0]*row_th):, :int(np.shape(a)[1]*col_th)]\n",
        "    a3 = a[:int(np.shape(a)[0]*row_th), -int(np.shape(a)[1]*col_th):]\n",
        "    a4 = a[-int(np.shape(a)[0]*row_th):, -int(np.shape(a)[1]*col_th):]\n",
        "    cv.imwrite(dir_path + folder + '/Top_Left/' + img + '.jpg',a1)\n",
        "    cv.imwrite(dir_path + folder + '/Top_Right/' + img + '.jpg',a3)\n",
        "    cv.imwrite(dir_path + folder + '/Bottom_Left/' + img + '.jpg',a2)\n",
        "    cv.imwrite(dir_path + folder + '/Bottom_Right/' + img + '.jpg',a4)\n",
        "    a[:int(np.shape(a)[0]*row_th), :int(np.shape(a)[1]*col_th)] = 0\n",
        "    a[-int(np.shape(a)[0]*row_th):, :int(np.shape(a)[1]*col_th)] = 0\n",
        "    a[:int(np.shape(a)[0]*row_th), -int(np.shape(a)[1]*col_th):] = 0\n",
        "    a[-int(np.shape(a)[0]*row_th):, -int(np.shape(a)[1]*col_th):] = 0\n",
        "    cv.imwrite(dir_path + folder + '/Cropped/' + img + '.jpg',a)"
      ],
      "execution_count": 0,
      "outputs": []
    }
  ]
}